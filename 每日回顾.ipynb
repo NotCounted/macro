{
 "cells": [
  {
   "cell_type": "code",
   "execution_count": 1,
   "metadata": {},
   "outputs": [],
   "source": [
    "# # 邮件配置\n",
    "# from utils.MailSenderHTML import MailSenderHTML\n",
    "# mail_filename = 'config/mail.json'\n",
    "# msh = MailSenderHTML(mail_filename)"
   ]
  },
  {
   "cell_type": "code",
   "execution_count": 2,
   "metadata": {},
   "outputs": [],
   "source": [
    "# 每日回顾\n",
    "import sys\n",
    "# sys.path.append(\"../datasource/DailyReview\")\n",
    "\n",
    "sys.path.append(\"../../\")\n",
    "\n",
    "from EMData import EMData\n",
    "from WSData import WSData\n",
    "from CH_VIX import CH_VIX\n",
    "\n",
    "from Nations import Nations\n",
    "from Liquidity import Liquidity\n",
    "from Leverage import Leverage\n",
    "from Economic import Economic\n",
    "from Direction import Direction\n",
    "from Sentiment import Sentiment\n",
    "\n",
    "from MacroViewData import MacroViewData\n",
    "\n",
    "\n",
    "from datetime import datetime,timedelta\n",
    "import warnings\n",
    "warnings.filterwarnings(\"ignore\")"
   ]
  },
  {
   "cell_type": "code",
   "execution_count": 3,
   "metadata": {},
   "outputs": [],
   "source": [
    "def update_img_data_dict(img_data_dict,fig,name):\n",
    "    filename = result_path + '{}.png'.format(name)\n",
    "    fig.savefig(filename,bbox_inches = 'tight', dpi=70)\n",
    "    file = open(filename, \"rb\")\n",
    "    img_data = file.read()\n",
    "    file.close()\n",
    "    img_data_dict[name] = img_data\n",
    "    \n",
    "    return img_data_dict\n",
    "\n",
    "def repalce_message(html_content,content,name,isEmail = True):\n",
    "    if isEmail:\n",
    "        html_content = html_content.replace('替换{}图片'.format(name),'<img src=\"cid:{0}\" alt=\"{0}\">'.format(name))\n",
    "    else:\n",
    "#         html_content = html_content.replace('替换{}图片'.format(name),'<img src=\"/home/jquser/0.定时推送/datasource/DailyReview/data/{0}.png\" alt=\"{0}\">'.format(name))\n",
    "        html_content = html_content.replace('替换{}图片'.format(name),'<img src=\"{0}.png\" alt=\"{0}\">'.format(name))\n",
    "    html_content = html_content.replace('替换{}表格'.format(name),content)\n",
    "    \n",
    "    return html_content\n",
    "\n"
   ]
  },
  {
   "cell_type": "code",
   "execution_count": 4,
   "metadata": {},
   "outputs": [],
   "source": [
    "# data_path = './datasource/DailyReview/data/'\n",
    "path = '../'\n",
    "data_path = path + 'process/'\n",
    "result_path = path + 'result/'"
   ]
  },
  {
   "cell_type": "code",
   "execution_count": 5,
   "metadata": {},
   "outputs": [],
   "source": [
    "em = EMData(data_path)\n",
    "try:\n",
    "    # 中国PPI CPI PMI 北向资金\n",
    "    em.save_data(typeStr = 'north_money')\n",
    "    \n",
    "    em.save_data(typeStr = 'ppi')\n",
    "    em.save_data(typeStr = 'cpi')\n",
    "    em.save_data(typeStr = 'pmi')\n",
    "    \n",
    "    \n",
    "    # 美国PMI\n",
    "    em.save_data(typeStr = 'us_manufacturing_pmi')\n",
    "    em.save_data(typeStr = 'us_non_manufacturing_pmi')\n",
    "    \n",
    "    # 信贷\n",
    "    em.save_data(typeStr = 'loan')\n",
    "    \n",
    "except Exception as e:\n",
    "    # 访问异常的错误编号和详细信息\n",
    "    print(e.args)\n",
    "    print(\"获取数据出错：东财\")"
   ]
  },
  {
   "cell_type": "code",
   "execution_count": 6,
   "metadata": {},
   "outputs": [],
   "source": [
    "mvd = MacroViewData(data_path)\n",
    "\n",
    "try:\n",
    "    # 中美利差\n",
    "    mvd.save_data('us_fed_rate') \n",
    "    mvd.save_data('cn_dr007')\n",
    "    \n",
    "    # 美国CPI\n",
    "    mvd.save_data('us_cpi')\n",
    "    \n",
    "    # 美国国债利差：10年-2年\n",
    "    mvd.save_data('us_bond_10Y-2Y')\n",
    "except Exception as e:\n",
    "    # 访问异常的错误编号和详细信息\n",
    "    print(e.args)\n",
    "    print(\"获取数据出错：macroview\")"
   ]
  },
  {
   "cell_type": "code",
   "execution_count": 7,
   "metadata": {},
   "outputs": [],
   "source": [
    "ws = WSData(data_path)\n",
    "\n",
    "try:\n",
    "    ws.save_data(typeStr = 'USDCNY', count = 30)\n",
    "    ws.save_data(typeStr = 'USDJPY', count = 30)\n",
    "    ws.save_data(typeStr = 'US10YR', count = 30)\n",
    "    ws.save_data(typeStr = 'USCL', count = 30)\n",
    "    ws.save_data(typeStr = 'CN10YR', count = 30)\n",
    "except Exception as e:\n",
    "    # 访问异常的错误编号和详细信息\n",
    "    print(e.args)\n",
    "    print(\"获取数据出错：华尔街见闻\")"
   ]
  },
  {
   "cell_type": "code",
   "execution_count": null,
   "metadata": {},
   "outputs": [],
   "source": []
  },
  {
   "cell_type": "code",
   "execution_count": 8,
   "metadata": {},
   "outputs": [],
   "source": [
    "start_date = '2015-01-01'\n",
    "end_date = datetime.now().strftime(\"%Y-%m-%d\")\n",
    "\n",
    "try:\n",
    "    #上证50波幅指数\n",
    "    VIX = CH_VIX('510050.XSHG',start_date,end_date,data_path)\n",
    "    VIX_ser = VIX.GetCBOE_VIX()\n",
    "\n",
    "    # 沪深300波幅指数\n",
    "    VIX = CH_VIX('510300.XSHG',start_date,end_date,data_path)\n",
    "    VIX_ser = VIX.GetCBOE_VIX()\n",
    "\n",
    "    # 中证1000波幅指数\n",
    "    VIX = CH_VIX('000852.XSHG',start_date,end_date,data_path)\n",
    "    VIX_ser = VIX.GetCBOE_VIX()\n",
    "except Exception as e:\n",
    "    # 访问异常的错误编号和详细信息\n",
    "    print(e.args)\n"
   ]
  },
  {
   "cell_type": "code",
   "execution_count": 9,
   "metadata": {},
   "outputs": [],
   "source": [
    "# def main():\n",
    "# 读取模板文件\n",
    "filename = path + 'content.html'\n",
    "with open(filename,'rb') as f:\n",
    "    html_content = f.read().decode('UTF-8')\n",
    "    msg_content = html_content\n",
    "\n",
    "img_data_dict = {}  \n"
   ]
  },
  {
   "cell_type": "code",
   "execution_count": 10,
   "metadata": {},
   "outputs": [],
   "source": [
    "# from IPython.display import HTML\n",
    "# HTML(html_content)"
   ]
  },
  {
   "cell_type": "code",
   "execution_count": 11,
   "metadata": {},
   "outputs": [],
   "source": [
    "# 1 国别资金流\n",
    "na = Nations(data_path)\n",
    "\n",
    "## 美元人民币\n",
    "fig,content = na.show_exchange_data(10)\n",
    "name = 'usdcny'\n",
    "img_data_dict = update_img_data_dict(img_data_dict,fig,name)\n",
    "msg_content = repalce_message(msg_content,content,name,isEmail=True)\n",
    "html_content = repalce_message(html_content,content,name,isEmail=False)\n",
    "\n",
    "## 中美利差\n",
    "fig,content = na.show_interest_rate_data(10)\n",
    "name = 'interest_rate'\n",
    "img_data_dict = update_img_data_dict(img_data_dict,fig,name)\n",
    "msg_content = repalce_message(msg_content,content,name,isEmail=True)\n",
    "html_content = repalce_message(html_content,content,name,isEmail=False)\n",
    "\n",
    "\n",
    "## 北向资金\n",
    "fig,content = na.show_north_money_data(10)\n",
    "name = 'north_money'\n",
    "img_data_dict = update_img_data_dict(img_data_dict,fig,name)\n",
    "msg_content = repalce_message(msg_content,content,name,isEmail=True)\n",
    "html_content = repalce_message(html_content,content,name,isEmail=False)"
   ]
  },
  {
   "cell_type": "code",
   "execution_count": 12,
   "metadata": {},
   "outputs": [],
   "source": [
    "# 2 流动性偏好\n",
    "lq = Liquidity()\n",
    "\n",
    "## 2.1 美元\n",
    "### 美元指数\n",
    "fig,content = lq.show_dollar_data(10)\n",
    "name = 'DINIW'\n",
    "img_data_dict = update_img_data_dict(img_data_dict,fig,name)\n",
    "msg_content = repalce_message(msg_content,content,name,isEmail=True)\n",
    "html_content = repalce_message(html_content,content,name,isEmail=False)\n",
    "\n",
    "### 美日汇率\n",
    "fig,content = lq.show_usdjpy_data(10)\n",
    "name = 'usdjpy'\n",
    "img_data_dict = update_img_data_dict(img_data_dict,fig,name)\n",
    "msg_content = repalce_message(msg_content,content,name,isEmail=True)\n",
    "html_content = repalce_message(html_content,content,name,isEmail=False)\n",
    "\n",
    "### 美国十年国债收益率\n",
    "fig,content = lq.show_us10yr_data(10)\n",
    "name = 'us10yr'\n",
    "img_data_dict = update_img_data_dict(img_data_dict,fig,name)\n",
    "msg_content = repalce_message(msg_content,content,name,isEmail=True)\n",
    "html_content = repalce_message(html_content,content,name,isEmail=False)\n",
    "\n",
    "### 纳斯达克100指数\n",
    "fig,content = lq.show_ndx_data(10)\n",
    "name = 'NDX'\n",
    "img_data_dict = update_img_data_dict(img_data_dict,fig,name)\n",
    "msg_content = repalce_message(msg_content,content,name,isEmail=True)\n",
    "html_content = repalce_message(html_content,content,name,isEmail=False)\n",
    "\n",
    "### 美元计价大宗商品\n",
    "fig,content = lq.show_uscl_data(10)\n",
    "name = 'uscl'\n",
    "img_data_dict = update_img_data_dict(img_data_dict,fig,name)\n",
    "msg_content = repalce_message(msg_content,content,name,isEmail=True)\n",
    "html_content = repalce_message(html_content,content,name,isEmail=False)\n",
    "\n",
    "## 2.2 人民币\n",
    "### 十年国债收益率\n",
    "fig,content = lq.show_cn10yr_data(10)\n",
    "name = 'cn10yr'\n",
    "img_data_dict = update_img_data_dict(img_data_dict,fig,name)\n",
    "msg_content = repalce_message(msg_content,content,name,isEmail=True)\n",
    "html_content = repalce_message(html_content,content,name,isEmail=False)\n",
    "\n",
    "#### 融资融券余额\n",
    "l = Leverage()\n",
    "fig,content = l.show_data()\n",
    "name = 'leverage'\n",
    "img_data_dict = update_img_data_dict(img_data_dict,fig,name)\n",
    "msg_content = repalce_message(msg_content,content,name,isEmail=True)\n",
    "html_content = repalce_message(html_content,content,name,isEmail=False)\n",
    "\n",
    "#### 股票型公募基金仓位\n",
    "fig,content = l.show_position_data()\n",
    "name = 'fund_position'\n",
    "img_data_dict = update_img_data_dict(img_data_dict,fig,name)\n",
    "msg_content = repalce_message(msg_content,content,name,isEmail=True)\n",
    "html_content = repalce_message(html_content,content,name,isEmail=False)"
   ]
  },
  {
   "cell_type": "code",
   "execution_count": 13,
   "metadata": {},
   "outputs": [],
   "source": [
    "# 3 经济景气度\n",
    "e = Economic(data_path)\n",
    "\n",
    "## 3.1 美国\n",
    "### US PMI\n",
    "fig,content = e.show_us_pmi_data(12)\n",
    "name = 'us_pmi'\n",
    "img_data_dict = update_img_data_dict(img_data_dict,fig,name)\n",
    "msg_content = repalce_message(msg_content,content,name,isEmail=True)\n",
    "html_content = repalce_message(html_content,content,name,isEmail=False)\n",
    "\n",
    "### US CPI\n",
    "fig,content = e.show_us_cpi_data(12)\n",
    "name = 'us_cpi'\n",
    "img_data_dict = update_img_data_dict(img_data_dict,fig,name)\n",
    "msg_content = repalce_message(msg_content,content,name,isEmail=True)\n",
    "html_content = repalce_message(html_content,content,name,isEmail=False)\n",
    "\n",
    "### 美国国债利差：10年-2年\n",
    "fig,content = e.show_us_bond_diff_data(12)\n",
    "name = 'us_bond_10Y-2Y'\n",
    "img_data_dict = update_img_data_dict(img_data_dict,fig,name)\n",
    "msg_content = repalce_message(msg_content,content,name,isEmail=True)\n",
    "html_content = repalce_message(html_content,content,name,isEmail=False)\n",
    "\n",
    "\n",
    "## 3.2 中国\n",
    "## PMI\n",
    "name = 'pmi'\n",
    "fig,content = e.show_pmi_data(12)\n",
    "img_data_dict = update_img_data_dict(img_data_dict,fig,name)\n",
    "msg_content = repalce_message(msg_content,content,name,isEmail=True)\n",
    "html_content = repalce_message(html_content,content,name,isEmail=False)\n",
    "### 新增信贷\n",
    "name = 'xzxd'\n",
    "fig,content = e.show_loan_data(12)\n",
    "img_data_dict = update_img_data_dict(img_data_dict,fig,name)\n",
    "msg_content = repalce_message(msg_content,content,name,isEmail=True)\n",
    "html_content = repalce_message(html_content,content,name,isEmail=False)\n",
    "### PPI-CPI剪刀差\n",
    "name = 'ppi-cpi'\n",
    "fig,content = e.show_ppi_cpi_data(12)\n",
    "img_data_dict = update_img_data_dict(img_data_dict,fig,name)\n",
    "msg_content = repalce_message(msg_content,content,name,isEmail=True)\n",
    "html_content = repalce_message(html_content,content,name,isEmail=False)\n"
   ]
  },
  {
   "cell_type": "code",
   "execution_count": 14,
   "metadata": {},
   "outputs": [],
   "source": [
    "# 4 市场倾向性\n",
    "## 4.1 信用风险\n",
    "d = Direction()\n",
    "#### 大市值-小市值\n",
    "name = 'credit_risk'\n",
    "fig,content = d.show_risk_data(5)\n",
    "img_data_dict = update_img_data_dict(img_data_dict,fig,name)\n",
    "msg_content = repalce_message(msg_content,content,name,isEmail=True)\n",
    "html_content = repalce_message(html_content,content,name,isEmail=False)\n",
    "### 十年国债期货\n",
    "name = 'treasury_bonds'\n",
    "fig,content = e.show_bonds_data(5)\n",
    "img_data_dict = update_img_data_dict(img_data_dict,fig,name)\n",
    "msg_content = repalce_message(msg_content,content,name,isEmail=True)\n",
    "html_content = repalce_message(html_content,content,name,isEmail=False)\n",
    "\n",
    "## 4.2 剩余流动性\n",
    "### 小市值\n",
    "name = 'liquidity'\n",
    "fig,content = d.show_liquidity_data(5)\n",
    "img_data_dict = update_img_data_dict(img_data_dict,fig,name)\n",
    "msg_content = repalce_message(msg_content,content,name,isEmail=True)\n",
    "html_content = repalce_message(html_content,content,name,isEmail=False)\n",
    "### 沪深两市成交额\n",
    "name = 'turnover'\n",
    "fig,content = d.show_volume_data(5)\n",
    "img_data_dict = update_img_data_dict(img_data_dict,fig,name)\n",
    "msg_content = repalce_message(msg_content,content,name,isEmail=True)\n",
    "html_content = repalce_message(html_content,content,name,isEmail=False)\n",
    "\n",
    "## 4.3 均衡与偏离\n",
    "### 大市值\n",
    "name = 'balance'\n",
    "fig,content = d.show_balance_data(5)\n",
    "img_data_dict = update_img_data_dict(img_data_dict,fig,name)\n",
    "msg_content = repalce_message(msg_content,content,name,isEmail=True)\n",
    "html_content = repalce_message(html_content,content,name,isEmail=False)\n",
    "### 市场主线\n",
    "name = 'mainline'\n",
    "fig,content = d.show_main_data(5)\n",
    "img_data_dict = update_img_data_dict(img_data_dict,fig,name)\n",
    "msg_content = repalce_message(msg_content,content,name,isEmail=True)\n",
    "html_content = repalce_message(html_content,content,name,isEmail=False)\n",
    "\n"
   ]
  },
  {
   "cell_type": "code",
   "execution_count": 15,
   "metadata": {},
   "outputs": [],
   "source": [
    "# 5 市场情绪\n",
    "s = Sentiment(data_path)\n",
    "# 5.1 A股\n",
    "### 上证50波幅指数\n",
    "name = 'vix_50'\n",
    "fig,content = s.show_ch_vix_data('510050',5)\n",
    "img_data_dict = update_img_data_dict(img_data_dict,fig,name)\n",
    "msg_content = repalce_message(msg_content,content,name,isEmail=True)\n",
    "html_content = repalce_message(html_content,content,name,isEmail=False)\n",
    "### 沪深300波幅指数\n",
    "name = 'vix_300'\n",
    "fig,content = s.show_ch_vix_data('510300',5)\n",
    "img_data_dict = update_img_data_dict(img_data_dict,fig,name)\n",
    "msg_content = repalce_message(msg_content,content,name,isEmail=True)\n",
    "html_content = repalce_message(html_content,content,name,isEmail=False)\n",
    "### 中证1000波幅指数\n",
    "name = 'vix_852'\n",
    "fig,content = s.show_ch_vix_data('000852',5)\n",
    "img_data_dict = update_img_data_dict(img_data_dict,fig,name)\n",
    "msg_content = repalce_message(msg_content,content,name,isEmail=True)\n",
    "html_content = repalce_message(html_content,content,name,isEmail=False)\n",
    "\n",
    "## 5.2 港股\n",
    "### 恒指波幅指数\n",
    "name = 'vix_hsi'\n",
    "fig,content = s.show_vhsi_data(5)\n",
    "img_data_dict = update_img_data_dict(img_data_dict,fig,name)\n",
    "msg_content = repalce_message(msg_content,content,name,isEmail=True)\n",
    "html_content = repalce_message(html_content,content,name,isEmail=False)\n",
    "\n"
   ]
  },
  {
   "cell_type": "code",
   "execution_count": 16,
   "metadata": {},
   "outputs": [],
   "source": [
    "# 当前时间\n",
    "datatime = datetime.now().strftime(\"%Y-%m-%d %H:%M:%S\")\n",
    "msg_content = msg_content.replace('当前时间',datatime)\n",
    "html_content = html_content.replace('当前时间',datatime)\n",
    "\n",
    "# 发送邮件\n",
    "date = datetime.now().strftime(\"%Y-%m-%d\")\n",
    "subject = '每日回顾【{}】'.format(date)\n",
    "# msh.sendMail(subject,message)\n",
    "#     msh.sendMail(subject,msg_content,img_data_dict)\n",
    "\n",
    "# 保存最新结果\n",
    "with open(result_path + \"html_content.html\",'w',encoding='GBK') as f:\n",
    "    f.write(html_content)\n",
    "\n",
    "    # 保存最新结果\n",
    "with open(result_path + \"index.html\",'w',encoding='UTF-8') as f:\n",
    "    f.write(html_content)\n",
    "# return html_content\n",
    "# html_content = main()"
   ]
  },
  {
   "cell_type": "code",
   "execution_count": 17,
   "metadata": {},
   "outputs": [
    {
     "name": "stdout",
     "output_type": "stream",
     "text": [
      "[master fb9f3e1] update\r\n",
      " 17 files changed, 151 insertions(+), 45 deletions(-)\r\n",
      " rewrite balance.png (99%)\r\n",
      " rewrite cn10yr.png (99%)\r\n",
      " rewrite credit_risk.png (99%)\r\n",
      " rewrite leverage.png (98%)\r\n",
      " rewrite liquidity.png (87%)\r\n",
      " rewrite mainline.png (97%)\r\n",
      " rewrite north_money.png (98%)\r\n",
      " rewrite treasury_bonds.png (99%)\r\n",
      " rewrite turnover.png (98%)\r\n",
      " rewrite us10yr.png (98%)\r\n",
      " rewrite uscl.png (96%)\r\n",
      " rewrite usdcny.png (98%)\r\n",
      " rewrite usdjpy.png (98%)\r\n",
      " rewrite vix_hsi.png (98%)\r\n"
     ]
    }
   ],
   "source": [
    "# github\n",
    "# !git remote rm origin\n",
    "# !git remote add origin git@github.com:zhiyizhilu/macro.git\n",
    "!git add .\n",
    "!git commit -m \"update\""
   ]
  },
  {
   "cell_type": "code",
   "execution_count": 18,
   "metadata": {},
   "outputs": [
    {
     "name": "stdout",
     "output_type": "stream",
     "text": [
      "Counting objects: 19, done.\n",
      "Delta compression using up to 32 threads.\n",
      "Compressing objects: 100% (19/19), done.\n",
      "Writing objects: 100% (19/19), 606.83 KiB | 0 bytes/s, done.\n",
      "Total 19 (delta 4), reused 0 (delta 0)\n",
      "remote: Resolving deltas: 100% (4/4), completed with 4 local objects.\u001b[K\n",
      "To git@github.com:zhiyizhilu/macro.git\n",
      "   be859f6..fb9f3e1  master -> master\n",
      "Branch master set up to track remote branch master from origin.\n"
     ]
    }
   ],
   "source": [
    "!git push -u origin master"
   ]
  },
  {
   "cell_type": "code",
   "execution_count": 19,
   "metadata": {},
   "outputs": [
    {
     "name": "stdout",
     "output_type": "stream",
     "text": [
      "2023-03-02 10:17:24\n"
     ]
    }
   ],
   "source": [
    "print(datatime)"
   ]
  },
  {
   "cell_type": "code",
   "execution_count": 20,
   "metadata": {
    "scrolled": true
   },
   "outputs": [
    {
     "name": "stdout",
     "output_type": "stream",
     "text": [
      "https://www.joinquant.com/user/74461734912/files/0.%E5%AE%9A%E6%97%B6%E6%8E%A8%E9%80%81/datasource/DailyReview/data/result/html_content.html\n"
     ]
    }
   ],
   "source": [
    "url = 'https://www.joinquant.com/user/74461734912/files/0.%E5%AE%9A%E6%97%B6%E6%8E%A8%E9%80%81/datasource/DailyReview/data/result/html_content.html'\n",
    "print(url)"
   ]
  },
  {
   "cell_type": "code",
   "execution_count": 21,
   "metadata": {},
   "outputs": [
    {
     "name": "stdout",
     "output_type": "stream",
     "text": [
      "https://zhiyizhilu.github.io/macro/\n"
     ]
    }
   ],
   "source": [
    "url = 'https://zhiyizhilu.github.io/macro/'\n",
    "print(url)"
   ]
  },
  {
   "cell_type": "code",
   "execution_count": null,
   "metadata": {},
   "outputs": [],
   "source": []
  }
 ],
 "metadata": {
  "kernelspec": {
   "display_name": "Python 3",
   "language": "python",
   "name": "python3"
  },
  "language_info": {
   "codemirror_mode": {
    "name": "ipython",
    "version": 3
   },
   "file_extension": ".py",
   "mimetype": "text/x-python",
   "name": "python",
   "nbconvert_exporter": "python",
   "pygments_lexer": "ipython3",
   "version": "3.6.7"
  },
  "toc": {
   "base_numbering": 1,
   "nav_menu": {},
   "number_sections": false,
   "sideBar": true,
   "skip_h1_title": false,
   "title_cell": "MarkDown菜单",
   "title_sidebar": "Contents",
   "toc_cell": false,
   "toc_position": {},
   "toc_section_display": true,
   "toc_window_display": false
  }
 },
 "nbformat": 4,
 "nbformat_minor": 2
}
